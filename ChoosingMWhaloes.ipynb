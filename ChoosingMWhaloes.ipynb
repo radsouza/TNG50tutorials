{
 "cells": [
  {
   "cell_type": "markdown",
   "metadata": {},
   "source": [
    "Choosing MW-mass galaxies"
   ]
  },
  {
   "cell_type": "code",
   "execution_count": 1,
   "metadata": {},
   "outputs": [],
   "source": [
    "import numpy as np\n",
    "import scipy.stats\n",
    "import h5py\n",
    "import sys\n",
    "import pickle\n",
    "import matplotlib.pyplot as plt\n",
    "from mpl_toolkits.axes_grid1 import make_axes_locatable\n",
    "%matplotlib inline\n",
    "sys.path.insert(0,\"../\")\n",
    "import illustris_python as il"
   ]
  },
  {
   "cell_type": "code",
   "execution_count": 3,
   "metadata": {},
   "outputs": [],
   "source": [
    "from astropy.cosmology import FlatLambdaCDM\n",
    "\n",
    "redshiftdata1=np.genfromtxt('data/redshift_TNG', dtype=[('snap','<i8'), ('redshift','<f8')])\n",
    "\n",
    "def find_redshift(snap):\n",
    "    arg=np.where(redshiftdata1['snap']==snap)[0]\n",
    "    if len(arg)>0:\n",
    "        return redshiftdata1['redshift'][arg[0]]\n",
    "\n",
    "def redshift(scale):\n",
    "    return 1.0/scale - 1.0\n",
    "\n",
    "cosmo = FlatLambdaCDM(H0=67.74, Om0=0.3089)\n",
    "\n",
    "def age(redshift):\n",
    "    age1=cosmo.age(redshift)\n",
    "    return 13.7 - age1.value"
   ]
  },
  {
   "cell_type": "code",
   "execution_count": 5,
   "metadata": {},
   "outputs": [],
   "source": [
    "# Enter in the current path of the files\n",
    "basePath = '/home/rdsouza/SIMS/TNG50/output/'"
   ]
  },
  {
   "cell_type": "code",
   "execution_count": 6,
   "metadata": {},
   "outputs": [],
   "source": [
    "# Load all the subhaloes\n",
    "fields = ['SubhaloMassType','SubhaloFlag','SubhaloParent','SubhaloGrNr','SubhaloPos']\n",
    "subhalos = il.groupcat.loadSubhalos(basePath, 99, fields=fields)"
   ]
  },
  {
   "cell_type": "code",
   "execution_count": 7,
   "metadata": {},
   "outputs": [],
   "source": [
    "h0=0.6774\n",
    "dm=subhalos['SubhaloMassType'][:,1]*1e10/h0\n",
    "sm=subhalos['SubhaloMassType'][:,4]*1e10/h0\n",
    "mask_sub=subhalos['SubhaloFlag'][:]\n",
    "parent=subhalos['SubhaloParent'][:]\n",
    "pos=subhalos['SubhaloPos'][:]/h0\n",
    "GrpNo=subhalos['SubhaloGrNr'][:]"
   ]
  },
  {
   "cell_type": "code",
   "execution_count": 9,
   "metadata": {},
   "outputs": [],
   "source": [
    "# Load the Group Catalog with information about which subhalos are centrals\n",
    "groups = il.groupcat.loadHalos(basePath,99,fields=['GroupFirstSub','Group_M_Crit200'])\n",
    "GroupFirstSub=groups['GroupFirstSub']\n",
    "group_dm200  =groups['Group_M_Crit200']*1e10/h0"
   ]
  },
  {
   "cell_type": "code",
   "execution_count": 11,
   "metadata": {},
   "outputs": [],
   "source": [
    "# Dark Matter M_200 of all the subhaloes \n",
    "dm200=np.zeros_like(dm)\n",
    "for i in range(len(dm200)):\n",
    "    dm200[i]=group_dm200[GrpNo[i]]"
   ]
  },
  {
   "cell_type": "code",
   "execution_count": 12,
   "metadata": {},
   "outputs": [],
   "source": [
    "mask_all=np.where(dm200)[0]"
   ]
  },
  {
   "cell_type": "code",
   "execution_count": 16,
   "metadata": {},
   "outputs": [],
   "source": [
    "# find the aperture masses of all the subhaloes\n",
    "apmasses=h5py.File('data/aperture_masses.hdf5')\n",
    "apID=apmasses['Snapshot_99']['SubfindID'][:]\n",
    "apm30=apmasses['Snapshot_99']['SubhaloStellarMass_in_r30pkpc'][:]\n",
    "apmasses.close()"
   ]
  },
  {
   "cell_type": "code",
   "execution_count": 17,
   "metadata": {},
   "outputs": [],
   "source": [
    "\n",
    "sm30=-np.ones_like(sm)\n",
    "for i in range(len(apID)):\n",
    "    sm30[apID[i]]=apm30[i]"
   ]
  },
  {
   "cell_type": "code",
   "execution_count": 18,
   "metadata": {},
   "outputs": [
    {
     "name": "stderr",
     "output_type": "stream",
     "text": [
      "/home/rdsouza/anaconda3/lib/python3.7/site-packages/ipykernel_launcher.py:6: RuntimeWarning: divide by zero encountered in true_divide\n",
      "  \n",
      "/home/rdsouza/anaconda3/lib/python3.7/site-packages/ipykernel_launcher.py:6: RuntimeWarning: invalid value encountered in true_divide\n",
      "  \n"
     ]
    }
   ],
   "source": [
    "# Load the stellar mass fractions calculated with Rodrigues-Gomes et al.\n",
    "fracmasses=h5py.File('/home/rdsouza/SIMS/TNG50/postprocessing/StellarAssembly/stellar_assembly.hdf5')\n",
    "exsitu=fracmasses['Snapshot_99']['StellarMassFromCompletedMergers'][:]\n",
    "totalmass=fracmasses['Snapshot_99']['StellarMassTotal'][:]\n",
    "fracmasses.close()\n",
    "exsitufrac=exsitu/totalmass"
   ]
  },
  {
   "cell_type": "markdown",
   "metadata": {},
   "source": [
    "Note that:\n",
    "\n",
    "- In D'Souza & Bell 2018, we chose M31-like galaxies with the following conditions: 10.7 < log(M*) < 11.3, 11.86 < log(M_DM_200) < 12.34 and (M_acc/M*) < 0.5. \n",
    "\n",
    "- Engler et al (as well as other Pillepich's papers) use a differnent selection function made up of 3 conditions: a) M* ~ 10.5 < log(M*) < 11.2, and M_200c< 10^13 b) disky morphology and c) Isolation criterion: No other massive galaxies with M* > 10^10.5 are allowed within a distance of 500 kpc of the MW/M31-like candidates.\n",
    "\n",
    "- In this notebook, we follow the condition of Engler et al... and apply the disk morphology later. "
   ]
  },
  {
   "cell_type": "code",
   "execution_count": 20,
   "metadata": {},
   "outputs": [
    {
     "name": "stdout",
     "output_type": "stream",
     "text": [
      "191\n"
     ]
    },
    {
     "name": "stderr",
     "output_type": "stream",
     "text": [
      "/home/rdsouza/anaconda3/lib/python3.7/site-packages/ipykernel_launcher.py:2: RuntimeWarning: invalid value encountered in less\n",
      "  \n",
      "/home/rdsouza/anaconda3/lib/python3.7/site-packages/ipykernel_launcher.py:2: RuntimeWarning: invalid value encountered in greater\n",
      "  \n"
     ]
    },
    {
     "data": {
      "image/png": "[encoded data removed]",
      "text/plain": [
       "<Figure size 432x288 with 1 Axes>"
      ]
     },
     "metadata": {
      "needs_background": "light"
     },
     "output_type": "display_data"
    },
    {
     "data": {
      "text/plain": [
       "<matplotlib.lines.Line2D at 0x7fcddab60d10>"
      ]
     },
     "execution_count": 20,
     "metadata": {},
     "output_type": "execute_result"
    },
    {
     "data": {
      "image/png": "[encoded data removed]",
      "text/plain": [
       "<Figure size 432x288 with 1 Axes>"
      ]
     },
     "metadata": {
      "needs_background": "light"
     },
     "output_type": "display_data"
    }
   ],
   "source": [
    "# First mask of DM\n",
    "mask_dm= np.where((sm30>=10**10.5) & (sm30<=10**11.3) & (dm200>=10**11.7) & (dm200<=10**12.45) & (exsitufrac<0.5) & (exsitufrac>0) )[0]\n",
    "print(len(dm200[mask_dm]))\n",
    "plt.hist(np.log10(dm200[mask_dm]))\n",
    "plt.show()\n",
    "plt.hist(np.log10(sm30[mask_dm]))\n",
    "med=np.median(sm30[mask_dm])\n",
    "plt.axvline(np.log10(med),c='r')"
   ]
  },
  {
   "cell_type": "code",
   "execution_count": null,
   "metadata": {},
   "outputs": [],
   "source": [
    "# find which of these galaxies are isolated."
   ]
  },
  {
   "cell_type": "code",
   "execution_count": 22,
   "metadata": {},
   "outputs": [],
   "source": [
    "def distance(pos1):\n",
    "    #return np.sqrt(np.sum(pos1[0,:]**2 + pos1[1,:]**2 + pos1[2,:]**2,axis=1))\n",
    "    return (np.sqrt(pos1[:,0]**2 + pos1[:,1]**2 + pos1[:,2]**2))"
   ]
  },
  {
   "cell_type": "code",
   "execution_count": 23,
   "metadata": {},
   "outputs": [
    {
     "name": "stderr",
     "output_type": "stream",
     "text": [
      "/home/rdsouza/anaconda3/lib/python3.7/site-packages/ipykernel_launcher.py:1: RuntimeWarning: invalid value encountered in less\n",
      "  \"\"\"Entry point for launching an IPython kernel.\n",
      "/home/rdsouza/anaconda3/lib/python3.7/site-packages/ipykernel_launcher.py:1: RuntimeWarning: invalid value encountered in greater\n",
      "  \"\"\"Entry point for launching an IPython kernel.\n"
     ]
    }
   ],
   "source": [
    "mask_dm= np.where((sm30>=10**10.5) & (sm30<=10**11.3) & (dm200>=10**11.7) & (dm200<=10**12.45) & (exsitufrac<0.5) & (exsitufrac>0) )[0]\n",
    "isolate=np.zeros_like(mask_dm)\n",
    "for i,e in enumerate(mask_dm):\n",
    "    maske=np.where(mask_all!=e)[0]\n",
    "    dist1=distance(pos[maske]-pos[e])/h0\n",
    "    arg1=np.where((dist1<500) & (sm30[maske]>10**10.5))[0]\n",
    "    isolate[i]=len(arg1)"
   ]
  },
  {
   "cell_type": "code",
   "execution_count": null,
   "metadata": {},
   "outputs": [],
   "source": [
    "np.where(isolate==0)"
   ]
  },
  {
   "cell_type": "code",
   "execution_count": null,
   "metadata": {},
   "outputs": [],
   "source": [
    "mask_dm"
   ]
  },
  {
   "cell_type": "code",
   "execution_count": null,
   "metadata": {},
   "outputs": [],
   "source": [
    "mask_isolate=(isolate==0)\n",
    "mask_dmi = mask_dm[mask_isolate]"
   ]
  },
  {
   "cell_type": "code",
   "execution_count": 24,
   "metadata": {},
   "outputs": [
    {
     "data": {
      "text/plain": [
       "183"
      ]
     },
     "execution_count": 24,
     "metadata": {},
     "output_type": "execute_result"
    }
   ],
   "source": [
    "len(mask_dmi)"
   ]
  },
  {
   "cell_type": "code",
   "execution_count": 54,
   "metadata": {},
   "outputs": [
    {
     "data": {
      "text/plain": [
       "array([402555, 428177, 432106, 434356, 435752, 436932, 440407, 443049,\n",
       "       445626, 446665, 449659, 450916, 452978, 454171, 454172, 456326,\n",
       "       458470, 459557, 459558, 461785, 462710, 464163, 465255, 467415,\n",
       "       468590, 469487, 470345, 471248, 471996, 472548, 473329, 475016,\n",
       "       475619, 476266, 477328, 478216, 479290, 479938, 481428, 482155,\n",
       "       482889, 483594, 484448, 485056, 486046, 487742, 488530, 489206,\n",
       "       490079, 490814, 491426, 492244, 492876, 494011, 494709, 495451,\n",
       "       496186, 497557, 498522, 499704, 500577, 501208, 501725, 502371,\n",
       "       502995, 503437, 503987, 504559, 505100, 505586, 506151, 506720,\n",
       "       507784, 508538, 509091, 509709, 510273, 510585, 511303, 511920,\n",
       "       512425, 513105, 513845, 514272, 514829, 515296, 515695, 516101,\n",
       "       516760, 517271, 517899, 518682, 519311, 520885, 521429, 521803,\n",
       "       522530, 522983, 523548, 523889, 524506, 525002, 525533, 526029,\n",
       "       526478, 527309, 528322, 528836, 529365, 530330, 530852, 531320,\n",
       "       531910, 532301, 532760, 534628, 535050, 535410, 535774, 536146,\n",
       "       536654, 537236, 537488, 537941, 538370, 538905, 539333, 539667,\n",
       "       540082, 540452, 540920, 541218, 541497, 541847, 542252, 542662,\n",
       "       543114, 543376, 543729, 544001, 544408, 544697, 545437, 545703,\n",
       "       546114, 546474, 546870, 547293, 547844, 549516, 550149, 550475,\n",
       "       550934, 552414, 552581, 553837, 554189, 554523, 554798, 555013,\n",
       "       555287, 555601, 557721, 559036, 559386, 560751, 561676, 563732,\n",
       "       565089, 565251, 566365, 567382, 569251, 571454, 571633, 572328,\n",
       "       572840, 574037, 575356, 576516, 577372, 580250, 588831])"
      ]
     },
     "execution_count": 54,
     "metadata": {},
     "output_type": "execute_result"
    }
   ],
   "source": [
    "mask_dmi"
   ]
  },
  {
   "cell_type": "code",
   "execution_count": 26,
   "metadata": {},
   "outputs": [],
   "source": [
    "np.save('data/MWM31SubfindID.npy',mask_dmi)"
   ]
  },
  {
   "cell_type": "markdown",
   "metadata": {},
   "source": [
    "Note: \n",
    "a) The final sample does not have any selection based on disk morphology.\n",
    "b) To select disk-like galaxies, it is best to use the circularity parameter 'CircAbove07Frac' described in Appendix C1. of Nelson et al. 2015.\n"
   ]
  },
  {
   "cell_type": "code",
   "execution_count": 27,
   "metadata": {},
   "outputs": [],
   "source": [
    "file1=h5py.File('data/stellar_circs.hdf5')"
   ]
  },
  {
   "cell_type": "code",
   "execution_count": 28,
   "metadata": {},
   "outputs": [
    {
     "data": {
      "text/plain": [
       "<KeysViewHDF5 ['CircAbove07Frac', 'CircAbove07Frac_allstars', 'CircAbove07MinusBelowNeg07Frac', 'CircAbove07MinusBelowNeg07Frac_allstars', 'CircTwiceBelow0Frac', 'CircTwiceBelow0Frac_allstars', 'MassTensorEigenVals', 'ReducedMassTensorEigenVals', 'SpecificAngMom', 'SpecificAngMom_allstars', 'SubfindID']>"
      ]
     },
     "execution_count": 28,
     "metadata": {},
     "output_type": "execute_result"
    }
   ],
   "source": [
    "file1['Snapshot_99'].keys()"
   ]
  },
  {
   "cell_type": "code",
   "execution_count": 55,
   "metadata": {},
   "outputs": [
    {
     "name": "stdout",
     "output_type": "stream",
     "text": [
      "402555 11.110187 0.5318445 0.07493718\n",
      "432106 11.143914 0.5153916 0.38184068\n",
      "436932 11.055335 0.6065633 0.19406436\n",
      "449659 10.745893 0.5445174 0.039814796\n",
      "454171 10.870092 0.58501893 0.049203828\n",
      "456326 11.024408 0.5910749 0.27854836\n",
      "467415 11.0399885 0.5301311 0.07621643\n",
      "473329 10.987834 0.6119577 0.14090784\n",
      "477328 10.745666 0.5268817 0.22985488\n",
      "478216 10.762802 0.576322 0.117937595\n",
      "479938 10.782257 0.50326025 0.2740038\n",
      "485056 10.916559 0.5535872 0.115465775\n",
      "488530 11.028842 0.56993145 0.23684911\n",
      "491426 10.927635 0.59644794 0.06831498\n",
      "494709 10.866175 0.58718604 0.19753568\n",
      "500577 10.528428 0.68909717 0.012524509\n",
      "501208 10.922474 0.5330357 0.035761528\n",
      "501725 10.812737 0.6637721 0.30369645\n",
      "502995 10.882951 0.62493795 0.17336702\n",
      "503437 10.805853 0.59741217 0.0986487\n",
      "505586 11.014021 0.59498465 0.20204836\n",
      "509091 10.696999 0.5981726 0.17583537\n",
      "510273 10.82456 0.54342055 0.3112789\n",
      "510585 10.694281 0.51397455 0.18601295\n",
      "515695 10.955694 0.5515166 0.38691282\n",
      "518682 10.672676 0.57039213 0.181205\n",
      "519311 10.939986 0.58015996 0.15349534\n",
      "521803 10.636537 0.6989084 0.05544608\n",
      "523889 10.727091 0.52885187 0.038943466\n",
      "526029 10.523247 0.5713806 0.15723608\n",
      "526478 10.602605 0.5028762 0.27118188\n",
      "527309 10.54204 0.76693594 0.041183863\n",
      "528836 10.63499 0.61952436 0.2304719\n",
      "531910 10.720873 0.5105916 0.20238434\n",
      "532760 10.743309 0.5625092 0.20220591\n",
      "535050 10.616849 0.7109553 0.028796757\n",
      "535410 10.7935095 0.5303777 0.06451339\n",
      "536146 10.52163 0.6368133 0.030657524\n",
      "537236 10.749257 0.5954617 0.30056334\n",
      "537941 10.70813 0.745883 0.032937065\n",
      "539333 10.741151 0.63644826 0.04589451\n",
      "541497 10.670674 0.69725025 0.057385802\n",
      "543376 10.782525 0.67294157 0.071194045\n",
      "543729 10.666719 0.53122646 0.1406749\n",
      "547293 10.730295 0.6157418 0.028312733\n",
      "547844 10.700808 0.5208685 0.057519026\n",
      "549516 10.560383 0.66412723 0.20326604\n",
      "552414 10.752513 0.5720271 0.062758714\n",
      "554523 10.520464 0.6234622 0.12548767\n",
      "554798 10.722931 0.5910873 0.072882965\n",
      "555287 10.573904 0.7609333 0.08524725\n",
      "555601 10.58263 0.70493084 0.16818263\n",
      "557721 10.608369 0.5061924 0.029906876\n",
      "559036 10.511224 0.5206753 0.22085111\n",
      "560751 10.615279 0.5025038 0.007903386\n",
      "561676 10.559398 0.5900603 0.029982625\n",
      "563732 10.559509 0.5387437 0.018800454\n",
      "565089 10.578557 0.55667686 0.058673028\n",
      "566365 10.50811 0.6346203 0.03379274\n",
      "567382 10.539133 0.75340533 0.04376496\n",
      "569251 10.598404 0.7092598 0.035137087\n",
      "571633 10.590455 0.56710416 0.19837092\n",
      "572328 10.625168 0.6017527 0.10303072\n",
      "575356 10.536983 0.51253664 0.06526836\n",
      "577372 10.507038 0.62400585 0.042115673\n",
      "580250 10.514834 0.5769474 0.1182093\n",
      "588831 10.534527 0.5274812 0.050317753\n"
     ]
    }
   ],
   "source": [
    "for ai in mask_dmi:\n",
    "    arg=np.where(file1['Snapshot_99']['SubfindID'][:]==ai)[0]\n",
    "    if len(arg)>0:\n",
    "        circ=file1['Snapshot_99']['CircAbove07Frac'][arg[0]]\n",
    "        if circ>0.5:\n",
    "            print(ai,np.log10(sm30[ai]),circ,exsitufrac[ai])\n"
   ]
  },
  {
   "cell_type": "code",
   "execution_count": null,
   "metadata": {},
   "outputs": [],
   "source": []
  }
 ],
 "metadata": {
  "kernelspec": {
   "display_name": "Python 3",
   "language": "python",
   "name": "python3"
  },
  "language_info": {
   "codemirror_mode": {
    "name": "ipython",
    "version": 3
   },
   "file_extension": ".py",
   "mimetype": "text/x-python",
   "name": "python",
   "nbconvert_exporter": "python",
   "pygments_lexer": "ipython3",
   "version": "3.7.4"
  }
 },
 "nbformat": 4,
 "nbformat_minor": 4
}
