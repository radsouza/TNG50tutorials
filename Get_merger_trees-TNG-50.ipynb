{
 "cells": [
  {
   "cell_type": "markdown",
   "metadata": {},
   "source": [
    "- Searches for all massive satellites of these halos and their time of entry \n",
    "- Searches for all massive progenitors and their time of entry.\n",
    "- Massive progenitors are defined as those whose peak mass of the subhalo compared to the present day mass of the galaxy is greater than 0.05. mpeak_sub/dm_mw0>0.05 "
   ]
  },
  {
   "cell_type": "code",
   "execution_count": 2,
   "metadata": {},
   "outputs": [],
   "source": [
    "import numpy as np\n",
    "import scipy.stats\n",
    "import h5py\n",
    "import sys\n",
    "import pickle\n",
    "import matplotlib.pyplot as plt\n",
    "from mpl_toolkits.axes_grid1 import make_axes_locatable\n",
    "%matplotlib inline\n",
    "sys.path.insert(0,\"../\")\n",
    "import illustris_python as il"
   ]
  },
  {
   "cell_type": "code",
   "execution_count": 3,
   "metadata": {},
   "outputs": [],
   "source": [
    "from astropy.cosmology import FlatLambdaCDM\n",
    "\n",
    "redshiftdata1=np.genfromtxt('data/redshift_TNG', dtype=[('snap','<i8'), ('redshift','<f8')])\n",
    "\n",
    "def find_redshift(snap):\n",
    "    if len(snap)==1:\n",
    "        arg=np.where(redshiftdata1['snap']==snap)[0]\n",
    "        if len(arg)>0:\n",
    "            return redshiftdata1['redshift'][arg[0]]\n",
    "    else:\n",
    "        red=np.zeros_like(snap,dtype=float)\n",
    "        for i in range(len(red)):\n",
    "            arg=np.where(redshiftdata1['snap']==snap[i])[0]\n",
    "            if len(arg)>0:\n",
    "                red[i]=redshiftdata1['redshift'][arg[0]]\n",
    "        return red\n",
    "        \n",
    "        \n",
    "def redshift(scale):\n",
    "    return 1.0/scale - 1.0\n",
    "\n",
    "def find_scale(redshift):\n",
    "    return 1.0/(redshift+1)\n",
    "\n",
    "cosmo = FlatLambdaCDM(H0=67.74, Om0=0.3089)\n",
    "\n",
    "def age(redshift):\n",
    "    age1=cosmo.age(redshift)\n",
    "    return 13.7 - age1.value"
   ]
  },
  {
   "cell_type": "code",
   "execution_count": 4,
   "metadata": {
    "tags": []
   },
   "outputs": [],
   "source": [
    "basePath = '/home/rdsouza/SIMS/TNG50/output/'"
   ]
  },
  {
   "cell_type": "markdown",
   "metadata": {},
   "source": [
    "Find all MW-mass halos "
   ]
  },
  {
   "cell_type": "code",
   "execution_count": 5,
   "metadata": {
    "tags": []
   },
   "outputs": [],
   "source": [
    "fields = ['SubhaloMassType','SubhaloFlag','SubhaloParent','SubhaloGrNr','SubhaloPos']\n",
    "subhalos = il.groupcat.loadSubhalos(basePath, 99, fields=fields)"
   ]
  },
  {
   "cell_type": "code",
   "execution_count": 6,
   "metadata": {},
   "outputs": [],
   "source": [
    "h0=0.6774\n",
    "dm=subhalos['SubhaloMassType'][:,1]*1e10/h0\n",
    "sm=subhalos['SubhaloMassType'][:,4]*1e10/h0\n",
    "mask_sub=subhalos['SubhaloFlag'][:]\n",
    "parent=subhalos['SubhaloParent'][:]\n",
    "pos=subhalos['SubhaloPos'][:]/h0\n",
    "GrpNo=subhalos['SubhaloGrNr'][:]"
   ]
  },
  {
   "cell_type": "code",
   "execution_count": 7,
   "metadata": {},
   "outputs": [],
   "source": [
    "# Load the Group Catalog with information about which subhalos are centrals\n",
    "groups = il.groupcat.loadHalos(basePath,99,fields=['GroupFirstSub','Group_M_Crit200'])\n",
    "GroupFirstSub=groups['GroupFirstSub']\n",
    "group_dm200  =groups['Group_M_Crit200']*1e10/h0"
   ]
  },
  {
   "cell_type": "code",
   "execution_count": 8,
   "metadata": {},
   "outputs": [],
   "source": [
    "dm200=np.zeros_like(dm)\n",
    "for i in range(len(dm200)):\n",
    "    dm200[i]=group_dm200[GrpNo[i]]"
   ]
  },
  {
   "cell_type": "code",
   "execution_count": 10,
   "metadata": {},
   "outputs": [],
   "source": [
    "# Select MW-mass central halos\n",
    "mask_MW=np.load('data/MWM31SubfindID.npy')\n",
    "ll_MW  = len(dm[mask_MW])"
   ]
  },
  {
   "cell_type": "code",
   "execution_count": 11,
   "metadata": {},
   "outputs": [],
   "source": [
    "# Find all subhalos that belong to the first  MW halo.\n",
    "MW_subhalo_ids=mask_MW\n",
    "MW_subhalo_mass=dm200[mask_MW]"
   ]
  },
  {
   "cell_type": "markdown",
   "metadata": {},
   "source": [
    "## Algorithm\n",
    "\n",
    "- Create a large array to store the results of the mergers\n",
    "- First find all the large progentiors which merged.\n",
    "- Second find all the large satellites which are within the virial radius.\n",
    "- We can distinguish the two scenarios with the last paramter in the array, True if merged, False if still around."
   ]
  },
  {
   "cell_type": "code",
   "execution_count": 12,
   "metadata": {},
   "outputs": [],
   "source": [
    "store_all=np.zeros(ll_MW*1000,dtype=[('SubfindID', '<i8'), ('SubhaloID','<i8'), ('mpeak', '<f8'), ('speak', '<f8'), ('SnapArrival','<i4'), ('Merg',np.bool)])\n",
    "count_all=0"
   ]
  },
  {
   "cell_type": "raw",
   "metadata": {},
   "source": [
    "'DescendantID', 'FirstProgenitorID', 'FirstSubhaloInFOFGroupID', 'GroupBHMass', 'GroupBHMdot', 'GroupCM', 'GroupFirstSub', 'GroupGasMetalFractions', 'GroupGasMetallicity', 'GroupLen', 'GroupLenType', 'GroupMass', 'GroupMassType', 'GroupNsubs', 'GroupPos', 'GroupSFR', 'GroupStarMetalFractions', 'GroupStarMetallicity', 'GroupVel', 'GroupWindMass', 'Group_M_Crit200', 'Group_M_Crit500', 'Group_M_Mean200', 'Group_M_TopHat200', 'Group_R_Crit200', 'Group_R_Crit500', 'Group_R_Mean200', 'Group_R_TopHat200', 'LastProgenitorID', 'MainLeafProgenitorID', 'Mass', 'MassHistory', 'NextProgenitorID', 'NextSubhaloInFOFGroupID', 'NumParticles', 'RootDescendantID', 'SnapNum', 'SubfindID', 'SubhaloBHMass', 'SubhaloBHMdot', 'SubhaloCM', 'SubhaloGasMetalFractions', 'SubhaloGasMetalFractionsHalfRad', 'SubhaloGasMetalFractionsMaxRad', 'SubhaloGasMetalFractionsSfr', 'SubhaloGasMetalFractionsSfrWeighted', 'SubhaloGasMetallicity', 'SubhaloGasMetallicityHalfRad', 'SubhaloGasMetallicityMaxRad', 'SubhaloGasMetallicitySfr', 'SubhaloGasMetallicitySfrWeighted', 'SubhaloGrNr', 'SubhaloHalfmassRad', 'SubhaloHalfmassRadType', 'SubhaloID', 'SubhaloIDMostbound', 'SubhaloIDRaw', 'SubhaloLen', 'SubhaloLenType', 'SubhaloMass', 'SubhaloMassInHalfRad', 'SubhaloMassInHalfRadType', 'SubhaloMassInMaxRad', 'SubhaloMassInMaxRadType', 'SubhaloMassInRad', 'SubhaloMassInRadType', 'SubhaloMassType', 'SubhaloParent', 'SubhaloPos', 'SubhaloSFR', 'SubhaloSFRinHalfRad', 'SubhaloSFRinMaxRad', 'SubhaloSFRinRad', 'SubhaloSpin', 'SubhaloStarMetalFractions', 'SubhaloStarMetalFractionsHalfRad', 'SubhaloStarMetalFractionsMaxRad', 'SubhaloStarMetallicity', 'SubhaloStarMetallicityHalfRad', 'SubhaloStarMetallicityMaxRad', 'SubhaloStellarPhotometrics', 'SubhaloStellarPhotometricsMassInRad', 'SubhaloStellarPhotometricsRad', 'SubhaloVel', 'SubhaloVelDisp', 'SubhaloVmax', 'SubhaloVmaxRad', 'SubhaloWindMass', 'TreeID']>"
   ]
  },
  {
   "cell_type": "code",
   "execution_count": 13,
   "metadata": {},
   "outputs": [],
   "source": [
    "count_all=0\n",
    "fields_tree = ['SubhaloID','MainLeafProgenitorID', 'FirstSubhaloInFOFGroupID','DescendantID','FirstProgenitorID','SubhaloMassType','SubfindID','SnapNum','SubhaloGrNr', 'Group_M_Crit200']\n",
    "for i in range(ll_MW):\n",
    "    subhaloid=MW_subhalo_ids[i]\n",
    "    dm_mw=dm200[subhaloid]\n",
    "    # get mpb of the MW profile\n",
    "    tree1 = il.sublink.loadTree(basePath, 99, subhaloid, fields=fields_tree)\n",
    "    arg_mpb=np.where((tree1['SubhaloID'][:]>=tree1['SubhaloID'][0]) & (tree1['SubhaloID'][:]<=tree1['MainLeafProgenitorID'][0]))[0]   \n",
    "    subhaloid_mpb          = tree1['SubhaloID'][arg_mpb]\n",
    "    subhaloid_mpb_snap     = tree1['SnapNum'][arg_mpb]\n",
    "    subhaloid_mpb_mass200  = tree1['Group_M_Crit200'][arg_mpb]*1e10 / h0\n",
    "    \n",
    "    # Find which subhalos are part of the group or not. \n",
    "    # The hidden assumption is that everything in the mpb is the first subhalo in the fof group.\n",
    "    \n",
    "    subhaloid_mpb_firstsubhalo=tree1['FirstSubhaloInFOFGroupID'][arg_mpb]\n",
    "    mask_grp=np.in1d(tree1['FirstSubhaloInFOFGroupID'][:],subhaloid_mpb_firstsubhalo)\n",
    "    subhalosids_grp_in=tree1['SubhaloID'][mask_grp]\n",
    "    subhalosids_grp_out=tree1['SubhaloID'][~mask_grp]\n",
    "    \n",
    "    # Find those that just fell in.\n",
    "    mask_just_fell_in= np.in1d(tree1['DescendantID'][~mask_grp],subhalosids_grp_in)\n",
    "    subhalosids_firstinfall=subhalosids_grp_out[mask_just_fell_in]\n",
    "    mask_first_infall=np.zeros_like(tree1['SubhaloID'][:],dtype=np.bool)\n",
    "    for j in range(len(subhalosids_firstinfall)):\n",
    "        arg1=np.where(tree1['SubhaloID'][:]==subhalosids_firstinfall[j])[0]\n",
    "        mask_first_infall[arg1]=True\n",
    "\n",
    "    # Apply a mass cut for the subhalos that fell in\n",
    "    mask_first_infall= mask_first_infall & ((tree1['SubhaloMassType'][:,1] * 1e10 / h0)>1e8)\n",
    "    arg1=np.where(mask_first_infall)[0]\n",
    "    # information about these subhalos which fell in\n",
    "    subhalosids_firstinfall=tree1['SubhaloID'][mask_first_infall]\n",
    "    snap_firstinfall=tree1['SnapNum'][mask_first_infall]\n",
    "    subhalosids_firstinfall_mpeak=np.zeros_like(subhalosids_firstinfall,dtype=float)\n",
    "    subhalosids_firstinfall_speak=np.zeros_like(subhalosids_firstinfall,dtype=float)\n",
    "    mask_subhalosids_firstinfall=np.ones_like(subhalosids_firstinfall,dtype=bool)\n",
    "    # create a mask - check for mass, but also check for previous entry.\n",
    "    # note that the mask considers everything True in the beginning\n",
    "    for j in range(len(arg1)):\n",
    "        ii=arg1[j]\n",
    "        #if (tree1['SnapNum'][ii]<=25):\n",
    "        #    mask_subhalosids_firstinfall[j]=False \n",
    "        #    continue\n",
    "        arg_sub_mpb=np.where((tree1['SubhaloID'][:]>=tree1['SubhaloID'][ii]) & (tree1['SubhaloID'][:]<=tree1['MainLeafProgenitorID'][ii]))[0]  \n",
    "        subhalosids_sub=tree1['SubhaloID'][arg_sub_mpb]\n",
    "        subhalosids_firstinfall_mpeak[j] = np.max(tree1['SubhaloMassType'][arg_sub_mpb,1] * 1e10 / h0)\n",
    "        #subhalosids_firstinfall_mpeak[j] = np.max(tree1['Group_M_Crit200'][arg_sub_mpb] * 1e10 / h0)\n",
    "        subhalosids_firstinfall_speak[j] = np.max(tree1['SubhaloMassType'][arg_sub_mpb,4] * 1e10 / h0)\n",
    "        \n",
    "        #arg_inter_mpb=np.where(subhaloid_mpb_mass200<=tree1['SnapNum'][ii])[0]\n",
    "        #if len(arg_inter_mpb)<1:\n",
    "        #    mask_subhalosids_firstinfall[j]=False \n",
    "        #    continue\n",
    "        #dm_mw_inter=np.max(subhaloid_mpb_mass200[arg_inter_mpb])\n",
    "        if subhalosids_firstinfall_mpeak[j]/dm_mw<0.05:\n",
    "            mask_subhalosids_firstinfall[j]=False\n",
    "            continue\n",
    "        mask_doublefall=np.in1d(subhalosids_firstinfall,subhalosids_sub)\n",
    "        arg_check=np.where(subhalosids_firstinfall[mask_doublefall])[0]\n",
    "        # one also finds oneself in the list.\n",
    "        if len(arg_check)>1:\n",
    "            arg_snap_check=np.where(snap_firstinfall[mask_doublefall]<  snap_firstinfall[j])[0]\n",
    "            if len(arg_snap_check)>0: \n",
    "                mask_subhalosids_firstinfall[j]=False\n",
    "            \n",
    "            \n",
    "                \n",
    "    subhalosids_firstinfall = subhalosids_firstinfall[mask_subhalosids_firstinfall]\n",
    "    subhalosids_firstinfall_mpeak=subhalosids_firstinfall_mpeak[mask_subhalosids_firstinfall]\n",
    "    subhalosids_firstinfall_speak=subhalosids_firstinfall_speak[mask_subhalosids_firstinfall]\n",
    "    snap_firstinfall=snap_firstinfall[mask_subhalosids_firstinfall]\n",
    "    for j in range(len(subhalosids_firstinfall_mpeak)):\n",
    "        store_all['SubfindID'][count_all]=subhaloid\n",
    "        store_all['SubhaloID'][count_all]=subhalosids_firstinfall[j]\n",
    "        store_all['mpeak'][count_all]=subhalosids_firstinfall_mpeak[j]\n",
    "        store_all['speak'][count_all]=subhalosids_firstinfall_speak[j]\n",
    "        store_all['SnapArrival'][count_all]=snap_firstinfall[j]\n",
    "        store_all['Merg'][count_all]=True\n",
    "        count_all=count_all+1\n",
    "    #print(subhaloid, np.log10(dm_mw), len(subhalosids_firstinfall_mpeak))\n"
   ]
  },
  {
   "cell_type": "code",
   "execution_count": 14,
   "metadata": {},
   "outputs": [
    {
     "data": {
      "text/plain": [
       "228"
      ]
     },
     "execution_count": 14,
     "metadata": {},
     "output_type": "execute_result"
    }
   ],
   "source": [
    "count_all"
   ]
  },
  {
   "cell_type": "code",
   "execution_count": 15,
   "metadata": {},
   "outputs": [],
   "source": [
    "fields_tree = ['SubhaloID','SubhaloMassType','SubfindID','SnapNum','SubhaloGrNr','Group_M_Crit200']\n",
    "for i in range(ll_MW):\n",
    "    subhaloid=MW_subhalo_ids[i]\n",
    "    dm_mw0   = dm[subhaloid]\n",
    "    tree1   = il.sublink.loadTree(basePath, 99, subhaloid, fields=fields_tree, onlyMPB=True)\n",
    "    grpno_mw   = tree1['SubhaloGrNr'][:]\n",
    "    snapno_mw  = tree1['SnapNum'][:]\n",
    "    dm_mw      = tree1['Group_M_Crit200'][:]*1e10 / h0\n",
    "    ll_snap=len(snapno_mw)\n",
    "    arg_sub=np.where((GrpNo==GrpNo[subhaloid]) & mask_sub  & (dm>1e8))[0]\n",
    "    for arg1 in arg_sub:\n",
    "        if arg1!=subhaloid:\n",
    "            tree2 = il.sublink.loadTree(basePath, 99, arg1, fields=fields_tree, onlyMPB=True)\n",
    "            mpeak_sub = np.max(tree2['SubhaloMassType'][:,1] * 1e10 / h0)\n",
    "            speak_sub = np.max(tree2['SubhaloMassType'][:,4] * 1e10 / h0)\n",
    "            #m200_sub  = np.max(tree2['Group_M_Crit200']*1e10/h0)\n",
    "            grpno_sub=tree2['SubhaloGrNr'][:]\n",
    "            snapno_sub=tree2['SnapNum'][:]\n",
    "            snap_arrival=99\n",
    "            for i in range(ll_snap):\n",
    "                arg_snap=np.where(snapno_sub==snapno_mw[i])[0]\n",
    "                if len(arg_snap)>0:\n",
    "                    if grpno_mw[i]==grpno_sub[arg_snap[0]]:\n",
    "                            snap_arrival=snapno_mw[i]\n",
    "            \n",
    "            arg_inter_mpb=np.where(snapno_mw<=snap_arrival)[0]\n",
    "            if len(arg_inter_mpb)>1:\n",
    "                dm_mw_inter=np.max(dm_mw[arg_inter_mpb])\n",
    "                if mpeak_sub/dm_mw0>0.05:\n",
    "                    store_all['SubfindID'][count_all]=subhaloid\n",
    "                    store_all['SubhaloID'][count_all]=tree2['SubhaloID'][0]\n",
    "                    store_all['mpeak'][count_all]=mpeak_sub\n",
    "                    store_all['speak'][count_all]=speak_sub\n",
    "                    store_all['SnapArrival'][count_all]=snap_arrival\n",
    "                    store_all['Merg'][count_all]=False\n",
    "                    count_all=count_all+1\n",
    "    #print(subhaloid,np.log10(dm[subhaloid]*1e10),count)"
   ]
  },
  {
   "cell_type": "code",
   "execution_count": 16,
   "metadata": {},
   "outputs": [
    {
     "data": {
      "text/plain": [
       "386"
      ]
     },
     "execution_count": 16,
     "metadata": {},
     "output_type": "execute_result"
    }
   ],
   "source": [
    "count_all"
   ]
  },
  {
   "cell_type": "code",
   "execution_count": 17,
   "metadata": {},
   "outputs": [],
   "source": [
    "mask=store_all['SubfindID'][:]>0\n",
    "store_all=store_all[mask]\n",
    "np.save('data/ans_TNG50.npy',store_all)"
   ]
  },
  {
   "cell_type": "code",
   "execution_count": 18,
   "metadata": {},
   "outputs": [
    {
     "name": "stdout",
     "output_type": "stream",
     "text": [
      "[(402555,         151381088, 1.55287388e+11, 2.66157286e+09, 36,  True)\n",
      " (428177, 10000002000039818, 3.45614451e+11, 1.47302554e+10, 38,  True)\n",
      " (434356, 10000001900117544, 4.99836912e+11, 2.76022211e+10, 58,  True)\n",
      " (435752,         155630302, 2.20274295e+11, 9.36910029e+09, 42,  True)\n",
      " (435752,         155687526, 4.38009856e+11, 1.41524644e+10, 42,  True)\n",
      " (436932,          55336096, 1.60006816e+11, 2.96577408e+09, 34,  True)\n",
      " (440407, 10000001700097057, 3.83768592e+11, 1.29276703e+10, 64,  True)\n",
      " (443049,         130958375, 1.66059344e+11, 3.02611942e+09, 39,  True)\n",
      " (443049,         130981777, 1.47799228e+11, 1.38441024e+09, 40,  True)\n",
      " (445626,          87519652, 2.51943518e+11, 1.31271025e+10, 36,  True)\n",
      " (445626,          87552636, 1.66571164e+11, 6.97767066e+09, 40,  True)\n",
      " (446665,         164107194, 1.22749247e+11, 1.39949990e+09, 26,  True)\n",
      " (446665,         164130771, 1.51791731e+11, 2.86279859e+09, 37,  True)\n",
      " (446665,         164167158, 9.24426322e+10, 2.33145754e+09, 46,  True)\n",
      " (450916, 10000002500087498, 3.46158957e+11, 1.50592911e+10, 64,  True)\n",
      " (450916, 10000002500106878, 1.50069756e+11, 2.47973453e+09, 36,  True)\n",
      " (452978,         150477725, 2.96251851e+11, 1.41202493e+10, 53,  True)\n",
      " (454172, 10000000202528041, 1.25204922e+11, 9.52257344e+08, 32,  True)\n",
      " (456326,         143956155, 1.80791116e+11, 2.00369152e+09, 30,  True)\n",
      " (458470,         208895826, 1.54825474e+11, 4.13478861e+09, 38,  True)\n",
      " (458470,         208908747, 2.01646211e+11, 5.08876954e+09, 32,  True)\n",
      " (459558,         131914341, 7.92322621e+10, 7.54411072e+08, 25,  True)\n",
      " (459558,         131920475, 4.47843000e+10, 4.95609856e+08, 28,  True)\n",
      " (459558,         131937834, 1.74454997e+11, 1.53800102e+09, 40,  True)\n",
      " (461785, 10000002800124310, 2.03536056e+11, 2.88714854e+09, 54,  True)\n",
      " (461785, 10000002800154462, 2.18106282e+11, 2.39976550e+09, 66,  True)\n",
      " (461785, 10000002800187755, 2.86028038e+11, 9.03943168e+09, 54,  True)\n",
      " (462710, 10000001300033549, 3.92514109e+11, 9.84651264e+09, 41,  True)\n",
      " (464163, 10000000900772385, 2.37440418e+11, 2.17891482e+09, 47,  True)\n",
      " (464163, 10000000900798128, 4.63947366e+11, 1.77897697e+10, 54,  True)\n",
      " (465255,         145411214, 2.54746771e+11, 7.14838374e+09, 47,  True)\n",
      " (467415,         146263985, 1.46382160e+11, 2.86365670e+09, 28,  True)\n",
      " (468590,         169145136, 1.94922136e+11, 3.05272755e+09, 35,  True)\n",
      " (468590,         169168552, 6.02540081e+11, 2.84091187e+10, 37,  True)\n",
      " (469487, 10000002900025129, 1.92369803e+11, 2.46664525e+09, 32,  True)\n",
      " (469487, 10000002900061456, 3.29603088e+11, 4.35772723e+09, 53,  True)\n",
      " (470345,         137500955, 1.33539340e+11, 1.92588774e+09, 30,  True)\n",
      " (471248,         168658747, 1.79816923e+11, 1.26078182e+09, 24,  True)\n",
      " (471248,         168696734, 1.68951513e+11, 2.92093645e+09, 26,  True)\n",
      " (471996, 10000000301549045, 2.31926956e+11, 7.54269645e+09, 39,  True)\n",
      " (472548, 10000000201958722, 6.24439722e+11, 3.09278781e+10, 56,  True)\n",
      " (473329, 10000003100024024, 1.33139137e+11, 8.75765760e+08, 32,  True)\n",
      " (473329, 10000003100061790, 1.21155240e+11, 7.35515968e+08, 42,  True)\n",
      " (475016,         171378024, 4.68282933e+11, 1.09213645e+10, 41,  True)\n",
      " (476266,         138222648, 1.09344227e+11, 1.41023130e+09, 39,  True)\n",
      " (477328,         145849998, 1.38072719e+11, 1.80715136e+09, 50,  True)\n",
      " (477328,         145890198, 1.42679146e+11, 1.44460211e+09, 54,  True)\n",
      " (478216, 10000000501028039, 1.95286925e+11, 2.89653171e+09, 37,  True)\n",
      " (479290, 10000000501511012, 2.61830640e+11, 8.58406400e+09, 46,  True)\n",
      " (479938, 10000003900023568, 2.46846587e+11, 5.71995546e+09, 53,  True)\n",
      " (481428,         176747417, 1.09432250e+11, 1.21521178e+09, 37,  True)\n",
      " (481428,         176757476, 1.13674772e+11, 5.59105472e+08, 37,  True)\n",
      " (482889, 10000002200028176, 6.60705313e+11, 1.91224136e+10, 55,  True)\n",
      " (484448,          33084352, 2.07749071e+11, 5.05106637e+09, 35,  True)\n",
      " (485056,         183067528, 2.27946234e+11, 1.89215885e+09, 33,  True)\n",
      " (486046, 10000000202924280, 4.61819314e+11, 2.31857132e+10, 74,  True)\n",
      " (489206,          43161754, 2.70729986e+11, 8.90168934e+09, 28,  True)\n",
      " (490079,           8158087, 2.08664297e+11, 9.04180429e+09, 43,  True)\n",
      " (490814, 20000001000035755, 1.15219792e+11, 1.97185024e+09, 52,  True)\n",
      " (490814, 20000001000059638, 1.15524714e+11, 7.25598080e+08, 50,  True)\n",
      " (491426, 10000002300001818, 1.39892703e+11, 3.50966656e+08, 27,  True)\n",
      " (491426, 10000002300022937, 9.32439491e+10, 4.47229440e+08, 27,  True)\n",
      " (491426, 10000002300038256, 1.08106408e+11, 3.97656960e+08, 30,  True)\n",
      " (492244, 10000000201237795, 2.45722202e+11, 3.22302643e+09, 45,  True)\n",
      " (492876, 10000001000067753, 2.14944154e+11, 8.00120883e+09, 47,  True)\n",
      " (494011,          84009078, 2.94164627e+11, 8.99385344e+09, 45,  True)\n",
      " (495451,         185403713, 9.53275515e+10, 6.44367040e+08, 47,  True)\n",
      " (496186,         153081585, 1.78608587e+11, 7.03422925e+09, 38,  True)\n",
      " (498522,         216835804, 1.77436115e+11, 2.12359219e+09, 36,  True)\n",
      " (498522,         216851326, 1.67240892e+11, 1.72872128e+09, 36,  True)\n",
      " (499704, 10000001100571962, 3.67298052e+11, 1.58509701e+10, 63,  True)\n",
      " (502371,         152714303, 1.43470952e+11, 3.40207821e+09, 40,  True)\n",
      " (502371,         152747722, 1.56072378e+11, 2.48537728e+09, 49,  True)\n",
      " (502995,         184896546, 2.87530844e+11, 5.71765299e+09, 36,  True)\n",
      " (504559, 10000001000593501, 1.64013375e+11, 4.49252198e+09, 43,  True)\n",
      " (505100,         155092904, 2.49686147e+11, 1.41558467e+10, 64,  True)\n",
      " (505586,          30426509, 2.67777901e+11, 3.53176602e+09, 30,  True)\n",
      " (506720, 10000002200338798, 2.33792766e+11, 5.00078182e+09, 38,  True)\n",
      " (506720, 10000002200373593, 9.70168484e+10, 2.36948048e+08, 43,  True)\n",
      " (507784,         148812962, 9.29499218e+10, 8.45236800e+08, 27,  True)\n",
      " (508538,          33554209, 8.62254039e+10, 1.36864230e+09, 45,  True)\n",
      " (509091,          72995531, 9.97089198e+10, 1.16496461e+09, 43,  True)\n",
      " (509709,         169763987, 9.30801418e+10, 3.97595840e+08, 36,  True)\n",
      " (509709,         169776259, 2.99811930e+11, 1.08906516e+10, 57,  True)\n",
      " (510273,         211047828, 1.14366292e+11, 6.69172096e+08, 24,  True)\n",
      " (510273,         211074905, 2.26080899e+11, 7.63738317e+09, 48,  True)\n",
      " (510585, 20000003300037809, 2.28282450e+11, 2.32313037e+09, 48,  True)\n",
      " (511303, 10000000002371635, 1.89795697e+11, 1.69909235e+09, 43,  True)\n",
      " (511920,          30609557, 1.21211052e+11, 1.16397568e+09, 25,  True)\n",
      " (511920,          30663628, 2.09748296e+11, 7.34402611e+09, 58,  True)\n",
      " (512425, 20000000800022939, 1.97305205e+11, 2.83655373e+09, 39,  True)\n",
      " (512425, 20000000800065388, 2.78856565e+11, 3.34927488e+09, 53,  True)\n",
      " (512425, 20000000800073220, 1.75824404e+11, 9.44609216e+08, 53,  True)\n",
      " (513845,         112849402, 1.75111127e+11, 6.00297728e+09, 42,  True)\n",
      " (513845,         112881303, 1.44312173e+11, 4.78403686e+09, 72,  True)\n",
      " (514272,         217882689, 1.13210139e+11, 1.98954061e+09, 40,  True)\n",
      " (514829, 20000000000022435, 1.44257270e+11, 2.00197363e+09, 34,  True)\n",
      " (515695, 10000001100014087, 1.18156878e+11, 1.38883302e+09, 31,  True)\n",
      " (515695, 10000001100040757, 1.64908630e+11, 2.55468570e+09, 34,  True)\n",
      " (516101, 20000001600027760, 1.92706019e+11, 5.87279206e+09, 40,  True)\n",
      " (516101, 20000001600052180, 1.13669784e+11, 7.38884224e+08, 52,  True)\n",
      " (517271, 10000003200019243, 7.25522104e+10, 3.98711648e+08, 31,  True)\n",
      " (517271, 10000003200043328, 1.00987126e+11, 1.15513523e+09, 36,  True)\n",
      " (518682, 20000002800007948, 9.59786762e+10, 6.50331392e+08, 30,  True)\n",
      " (518682, 20000002800016640, 9.88223078e+10, 1.43766899e+09, 30,  True)\n",
      " (518682, 20000002800048678, 7.13275474e+10, 1.25818342e+09, 41,  True)\n",
      " (519311,          82103942, 3.16347777e+11, 8.26851072e+09, 43,  True)\n",
      " (520885, 10000003700029821, 1.13264599e+11, 9.33134912e+08, 42,  True)\n",
      " (520885, 10000003700065498, 8.27556086e+10, 6.19036224e+08, 44,  True)\n",
      " (521429, 10000000302104558, 8.34784215e+10, 2.09992128e+09, 64,  True)\n",
      " (521803, 20000002200014011, 6.25507410e+10, 7.65898944e+08, 28,  True)\n",
      " (522530,           9576451, 2.20650897e+11, 3.29258701e+09, 33,  True)\n",
      " (522530,           9601632, 1.91847530e+11, 4.11250816e+09, 41,  True)\n",
      " (522983,         199949012, 2.79288971e+11, 6.50331546e+09, 62,  True)\n",
      " (523548, 20000004100064253, 3.18701830e+11, 1.05695683e+10, 53,  True)\n",
      " (523889, 20000002400005257, 1.14809602e+11, 6.77699456e+08, 28,  True)\n",
      " (525002, 10000002400039980, 3.38390811e+11, 6.20507443e+09, 70,  True)\n",
      " (525002, 10000002400058302, 1.00772504e+11, 1.04492870e+09, 70,  True)\n",
      " (525533, 10000000201031805, 1.89806133e+11, 5.90696806e+09, 51,  True)\n",
      " (526029, 20000003100025760, 7.81954499e+10, 4.27885312e+08, 43,  True)\n",
      " (526029, 20000003100038681, 4.75739341e+10, 4.83422784e+08, 40,  True)\n",
      " (526478,         153463945, 7.20471900e+10, 1.31815782e+09, 44,  True)\n",
      " (526478,         153490026, 1.49268005e+11, 2.82631091e+09, 46,  True)\n",
      " (528322, 20000002900033495, 2.57558184e+11, 6.57453210e+09, 61,  True)\n",
      " (528836, 10000000800453752, 5.72782060e+10, 4.91786624e+08, 28,  True)\n",
      " (528836, 10000000800461818, 5.93069056e+10, 4.93880224e+08, 30,  True)\n",
      " (528836, 10000000800484362, 8.98730639e+10, 5.77145536e+08, 48,  True)\n",
      " (529365,         166920082, 1.81636432e+11, 3.28797056e+09, 30,  True)\n",
      " (530330,          47312952, 1.25389603e+11, 3.33854720e+09, 69,  True)\n",
      " (531910,         213224928, 8.97069957e+10, 7.62681536e+08, 42,  True)\n",
      " (531910,         213232103, 7.48740280e+10, 3.04442752e+08, 40,  True)\n",
      " (531910,         213242982, 8.87613850e+10, 6.53474816e+08, 40,  True)\n",
      " (532301, 20000002700006301, 6.44995768e+10, 6.05775808e+08, 31,  True)\n",
      " (532301, 20000002700039779, 3.56494377e+11, 1.08620964e+10, 65,  True)\n",
      " (532760,         216523870, 9.45203446e+10, 1.16053171e+09, 39,  True)\n",
      " (534628, 10000003400030169, 9.43479112e+10, 1.02110950e+09, 32,  True)\n",
      " (534628, 10000003400064639, 1.24223021e+11, 9.79401152e+08, 52,  True)\n",
      " (535410,         137772789, 9.52948818e+10, 4.35051616e+08, 26,  True)\n",
      " (535410,         137783829, 9.54477937e+10, 7.68488896e+08, 29,  True)\n",
      " (535774,           7861941, 6.25952072e+10, 6.73944800e+07, 38,  True)\n",
      " (535774,           7863778, 8.30614241e+10, 2.41466816e+08, 38,  True)\n",
      " (536146,         191318231, 5.48824228e+10, 4.68264352e+08, 42,  True)\n",
      " (536654, 20000001500016245, 9.63502899e+10, 7.90739072e+08, 38,  True)\n",
      " (536654, 20000001500069559, 6.49183846e+10, 8.86045312e+08, 49,  True)\n",
      " (537236,         191690860, 8.23553966e+10, 2.17922688e+09, 37,  True)\n",
      " (537236,         191695217, 1.32997554e+11, 1.78711155e+09, 37,  True)\n",
      " (537488, 20000006200053531, 1.29040892e+11, 1.38034176e+09, 65,  True)\n",
      " (537941, 10000000001592926, 7.67588925e+10, 5.00139968e+08, 35,  True)\n",
      " (538370, 20000003500029239, 8.45624197e+10, 5.28243136e+08, 47,  True)\n",
      " (538370, 20000003500050536, 1.79346375e+11, 1.04013690e+09, 57,  True)\n",
      " (538370, 20000003500056835, 1.83986389e+11, 8.90594944e+08, 57,  True)\n",
      " (538905,          76700616, 7.90330737e+10, 5.43182784e+08, 26,  True)\n",
      " (539333, 10000001200423442, 8.27619574e+10, 6.05882048e+08, 29,  True)\n",
      " (539667,         140377023, 9.52254546e+10, 2.22535552e+09, 45,  True)\n",
      " (539667,         140388171, 1.12234586e+11, 2.24379853e+09, 43,  True)\n",
      " (540082,         200352690, 1.21014116e+11, 7.62766208e+08, 29,  True)\n",
      " (540082,         200375868, 1.29032733e+11, 3.10769536e+09, 38,  True)\n",
      " (540452,         208203851, 6.61788877e+10, 3.59699456e+08, 31,  True)\n",
      " (540452,         208224289, 1.45840849e+11, 4.65189734e+09, 63,  True)\n",
      " (540920, 20000006900046815, 3.00855558e+11, 1.30806344e+10, 54,  True)\n",
      " (541218,         195666210, 2.52124529e+11, 4.80534067e+09, 57,  True)\n",
      " (541497,         217289979, 5.42122435e+10, 4.24932992e+08, 26,  True)\n",
      " (541847, 10000000501314403, 8.99148104e+10, 8.96524160e+08, 27,  True)\n",
      " (541847, 10000000501326521, 4.76347310e+10, 6.21132544e+08, 33,  True)\n",
      " (542252, 20000005100017720, 2.22916461e+11, 3.59540659e+09, 46,  True)\n",
      " (542252, 20000005100025140, 1.14384896e+11, 1.00183290e+09, 46,  True)\n",
      " (543114,         112071928, 5.94639012e+10, 3.67293120e+08, 23,  True)\n",
      " (543376, 20000000900031284, 7.91369728e+10, 8.44753408e+08, 31,  True)\n",
      " (543729, 10000001500556319, 9.18164603e+10, 4.35672384e+08, 33,  True)\n",
      " (543729, 10000001500581723, 9.52994202e+10, 3.33795968e+09, 66,  True)\n",
      " (544001,          82694727, 4.15867494e+10, 6.32470280e+07, 19,  True)\n",
      " (544001,          82706060, 7.53159782e+10, 1.24743155e+09, 32,  True)\n",
      " (544001,          82725789, 6.99808317e+10, 1.25890880e+09, 42,  True)\n",
      " (544408,         217516782, 5.27525396e+10, 4.04905248e+08, 31,  True)\n",
      " (544408,         217524793, 1.40341445e+11, 1.61694515e+09, 35,  True)\n",
      " (544697,         194063786, 1.03586185e+11, 9.83148544e+08, 48,  True)\n",
      " (544697,         194082633, 1.60295846e+11, 1.95387622e+09, 54,  True)\n",
      " (545437, 20000001400014837, 4.95740477e+10, 3.11739488e+08, 29,  True)\n",
      " (545703,         148590801, 7.81568901e+10, 6.59443712e+08, 25,  True)\n",
      " (545703,         148621172, 7.24097352e+10, 5.10166784e+08, 50,  True)\n",
      " (546114,         203222852, 1.27789933e+11, 1.23133056e+09, 46,  True)\n",
      " (546114,         203239489, 1.02270771e+11, 2.35060864e+09, 51,  True)\n",
      " (546474,         200668777, 1.34444556e+11, 2.15221197e+09, 40,  True)\n",
      " (546870, 10000001300494721, 8.20377764e+10, 2.71453280e+08, 23,  True)\n",
      " (546870, 10000001300497719, 8.87908844e+10, 3.29933760e+08, 23,  True)\n",
      " (547293,         139136349, 7.21683415e+10, 4.46314368e+08, 24,  True)\n",
      " (547844, 20000008000005624, 6.26074501e+10, 2.82263648e+08, 21,  True)\n",
      " (549516, 10000002400316652, 9.97198152e+10, 1.72073306e+09, 37,  True)\n",
      " (549516, 10000002400328929, 8.25291899e+10, 1.03253350e+09, 44,  True)\n",
      " (550149, 20000004200012186, 9.98527631e+10, 1.49033894e+09, 36,  True)\n",
      " (550149, 20000004200040244, 1.13863991e+11, 2.43201766e+09, 60,  True)\n",
      " (550934,          80298699, 3.65181305e+11, 3.34176947e+09, 57,  True)\n",
      " (550934,          80312101, 3.07375440e+11, 1.44266816e+09, 57,  True)\n",
      " (552414,         122711940, 5.06457948e+10, 3.50024512e+08, 31,  True)\n",
      " (552414,         122719021, 7.48949012e+10, 2.19926912e+09, 42,  True)\n",
      " (552581,         206930663, 6.23184159e+10, 5.78599168e+08, 28,  True)\n",
      " (552581,         206941296, 8.20005683e+10, 1.61253018e+09, 39,  True)\n",
      " (553837, 20000007500006632, 4.58819133e+10, 3.29941696e+08, 26,  True)\n",
      " (553837, 20000007500017374, 5.54310042e+10, 4.94801440e+08, 36,  True)\n",
      " (553837, 20000007500038539, 1.46467930e+11, 1.41781222e+09, 62,  True)\n",
      " (554523, 20000009700009467, 5.64496630e+10, 5.86803328e+08, 29,  True)\n",
      " (554523, 20000009700015380, 7.82358364e+10, 8.84687552e+08, 30,  True)\n",
      " (554798,          47861856, 4.64472801e+10, 2.47978160e+08, 19,  True)\n",
      " (554798,          47871297, 7.83524495e+10, 5.96819584e+08, 24,  True)\n",
      " (555013, 10000000203248716, 6.12630036e+10, 3.80557728e+08, 27,  True)\n",
      " (555287, 10000001600529156, 4.39330693e+10, 3.66475264e+08, 26,  True)\n",
      " (555287, 10000001600540896, 7.86764186e+10, 3.01951136e+08, 35,  True)\n",
      " (555287, 10000001600542618, 6.17648497e+10, 2.28164768e+08, 35,  True)\n",
      " (555601, 10000000601506773, 9.49314273e+10, 8.83780672e+08, 34,  True)\n",
      " (555601, 10000000601512943, 4.97373962e+10, 5.37201472e+08, 34,  True)\n",
      " (559036,          90208089, 1.46934383e+11, 3.98777523e+09, 54,  True)\n",
      " (559386, 20000000900141707, 1.95242033e+11, 6.26672947e+09, 44,  True)\n",
      " (561676,         167329588, 6.09676165e+10, 1.65283584e+08, 27,  True)\n",
      " (565089,         111685194, 5.29834967e+10, 1.87144016e+08, 32,  True)\n",
      " (565251, 20000006000014057, 5.40452618e+10, 8.09730176e+08, 45,  True)\n",
      " (565251, 20000006000024257, 2.58963440e+11, 6.45755597e+09, 61,  True)\n",
      " (566365,          77625644, 5.93695212e+10, 4.01244192e+08, 28,  True)\n",
      " (569251,         213890207, 4.51658998e+10, 2.81968768e+08, 32,  True)\n",
      " (571633,         139459507, 3.31466179e+10, 2.41340016e+08, 23,  True)\n",
      " (571633,         139471662, 6.34242007e+10, 2.18855885e+09, 50,  True)\n",
      " (572840, 20000004800007818, 6.32486011e+10, 4.81685760e+08, 30,  True)\n",
      " (572840, 20000004800020967, 1.43718236e+11, 5.24580352e+09, 46,  True)\n",
      " (575356,          89963348, 8.47511798e+10, 3.68504640e+08, 30,  True)\n",
      " (576516, 20000013400003533, 3.97722214e+10, 2.13662976e+08, 19,  True)\n",
      " (577372, 20000015000004414, 6.42831401e+10, 4.08226848e+08, 21,  True)\n",
      " (580250,         144556719, 3.38667131e+10, 1.57800880e+08, 26,  True)\n",
      " (580250,         144563520, 9.61742356e+10, 1.41377306e+09, 33,  True)\n",
      " (588831,          84477380, 3.44234598e+10, 1.50183568e+08, 17,  True)\n",
      " (402555,         151443287, 6.69115089e+11, 3.09134479e+10, 93, False)\n",
      " (402555,         151483128, 4.67091390e+11, 2.27338199e+10, 93, False)\n",
      " (402555,         151508910, 1.43336161e+11, 5.93154150e+09, 93, False)\n",
      " (428177, 10000002000144794, 5.17505319e+11, 1.93254461e+10, 96, False)\n",
      " (428177, 10000002000183005, 5.06850443e+11, 2.81109381e+10, 94, False)\n",
      " (432106,          70060870, 1.68296759e+11, 1.01154734e+10, 68, False)\n",
      " (432106,          70073972, 1.35199138e+11, 5.82852608e+09, 67, False)\n",
      " (432106,          70084334, 1.43556690e+11, 3.51962598e+09, 57, False)\n",
      " (434356, 10000001900165260, 3.13648939e+11, 1.01283953e+10, 97, False)\n",
      " (435752,         155729891, 1.57948166e+11, 4.74213888e+09, 74, False)\n",
      " (436932,          55403749, 2.00932000e+11, 4.49453414e+09, 81, False)\n",
      " (440407, 10000001700141199, 6.67955757e+11, 3.00994499e+10, 98, False)\n",
      " (440407, 10000001700187937, 2.28997120e+11, 5.19982285e+09, 98, False)\n",
      " (440407, 10000001700206619, 2.20144976e+11, 4.12486861e+09, 93, False)\n",
      " (440407, 10000001700225805, 9.91748669e+10, 1.83526234e+09, 77, False)\n",
      " (443049,         131038777, 3.25409571e+11, 1.77716142e+10, 73, False)\n",
      " (443049,         131059384, 1.43087075e+11, 6.81373850e+09, 44, False)\n",
      " (446665,         164197301, 3.04307634e+11, 1.28535603e+10, 57, False)\n",
      " (446665,         164218918, 2.29634638e+11, 1.09506447e+10, 73, False)\n",
      " (446665,         164237236, 1.91211831e+11, 7.13526374e+09, 67, False)\n",
      " (446665,         164254914, 1.26000800e+11, 2.83061146e+09, 64, False)\n",
      " (449659, 10000002700000000, 1.69409302e+12, 7.24059668e+10, 84, False)\n",
      " (450916, 10000002500137308, 4.65219224e+11, 2.82478694e+10, 87, False)\n",
      " (452978,         150521725, 2.12781122e+11, 7.23829248e+09, 92, False)\n",
      " (452978,         150537364, 1.55730706e+11, 5.78667725e+09, 54, False)\n",
      " (452978,         150548081, 2.58400322e+11, 5.72450406e+09, 87, False)\n",
      " (454171, 10000000202497808, 1.24320888e+12, 5.70025329e+10, 90, False)\n",
      " (454172, 10000000202398002, 1.76002145e+12, 7.84751657e+10, 90, False)\n",
      " (456326,         144031055, 4.67489751e+11, 2.76830863e+10, 85, False)\n",
      " (458470,         208969734, 1.74964097e+11, 2.91020211e+09, 86, False)\n",
      " (458470,         208984706, 1.41770736e+11, 5.52964710e+09, 72, False)\n",
      " (459557,         131902692, 1.09867663e+12, 4.90281288e+10, 76, False)\n",
      " (459557,         131961704, 3.75725064e+11, 3.06602353e+10, 55, False)\n",
      " (459557,         131984183, 5.78381251e+10, 9.75080256e+08, 45, False)\n",
      " (459558,         131857530, 7.84028991e+11, 4.49736212e+10, 76, False)\n",
      " (459558,         131961704, 3.75725064e+11, 3.06602353e+10, 78, False)\n",
      " (459558,         131984183, 5.78381251e+10, 9.75080256e+08, 78, False)\n",
      " (462710, 10000001300126221, 4.06027108e+11, 2.19861914e+10, 73, False)\n",
      " (464163, 10000000900867717, 1.62568651e+11, 6.46608640e+09, 61, False)\n",
      " (465255,         145469819, 1.30065007e+11, 1.15468582e+09, 94, False)\n",
      " (467415,         146345970, 1.71488412e+11, 5.16821811e+09, 93, False)\n",
      " (467415,         146364473, 9.84252826e+10, 1.87721088e+09, 41, False)\n",
      " (467415,         146372836, 1.19736820e+11, 4.19910938e+09, 56, False)\n",
      " (469487, 10000002900101823, 6.10417115e+11, 3.10210785e+10, 66, False)\n",
      " (471248,         168773801, 1.20825373e+11, 3.28648038e+09, 41, False)\n",
      " (471996, 10000000301589960, 3.22945712e+11, 1.80283658e+10, 70, False)\n",
      " (471996, 10000000301611527, 1.69912091e+11, 1.15156982e+10, 68, False)\n",
      " (473329, 10000003100101015, 4.79041651e+11, 2.23862825e+10, 96, False)\n",
      " (475016,         171444846, 2.47892492e+11, 1.04312556e+10, 43, False)\n",
      " (476266,         138264651, 4.74196607e+11, 3.11422956e+10, 76, False)\n",
      " (476266,         138293770, 7.26729032e+10, 1.51077837e+09, 45, False)\n",
      " (476266,         138309208, 9.38061414e+10, 1.59519974e+09, 40, False)\n",
      " (477328,         145917827, 2.07057584e+11, 8.47099802e+09, 88, False)\n",
      " (477328,         145931254, 1.81992178e+11, 8.41764762e+09, 77, False)\n",
      " (478216, 10000000501080258, 4.25773236e+11, 2.58273690e+10, 76, False)\n",
      " (478216, 10000000501105497, 2.09911628e+11, 7.74160435e+09, 96, False)\n",
      " (479290, 10000000501552426, 1.54996998e+11, 4.87174963e+09, 74, False)\n",
      " (479938, 10000003900080626, 9.90482678e+10, 2.90455603e+09, 76, False)\n",
      " (479938, 10000003900087539, 1.06864050e+11, 2.77088410e+09, 86, False)\n",
      " (479938, 10000003900103746, 9.23836498e+10, 3.27574912e+09, 54, False)\n",
      " (481428,         176813350, 3.47035107e+11, 1.84954286e+10, 62, False)\n",
      " (481428,         176835090, 1.16154958e+11, 3.23118720e+09, 64, False)\n",
      " (482155, 10000000000613153, 2.16549949e+11, 1.03778959e+10, 57, False)\n",
      " (482889, 10000002200072626, 3.77486049e+11, 1.63604460e+10, 67, False)\n",
      " (482889, 10000002200096964, 6.77946851e+11, 1.97198316e+10, 77, False)\n",
      " (485056,         183111500, 7.28575836e+10, 1.33671962e+09, 77, False)\n",
      " (485056,         183121819, 8.98844099e+10, 9.28144256e+08, 72, False)\n",
      " (487742,         165906374, 1.29776419e+12, 2.73439416e+10, 61, False)\n",
      " (487742,         165940414, 1.42234468e+11, 4.07429478e+09, 78, False)\n",
      " (490079,           8217268, 1.13241448e+11, 2.49212851e+09, 70, False)\n",
      " (490079,           8226155, 1.98551650e+11, 1.54555873e+10, 64, False)\n",
      " (490079,           8252276, 9.78127176e+10, 3.17424998e+09, 67, False)\n",
      " (490814, 20000001000088925, 3.13411174e+11, 1.79904942e+10, 60, False)\n",
      " (490814, 20000001000110145, 8.69654610e+10, 2.32963430e+09, 77, False)\n",
      " (490814, 20000001000124141, 8.15096218e+10, 5.53681664e+08, 71, False)\n",
      " (492244, 10000000201304590, 1.88061024e+11, 1.19286098e+10, 46, False)\n",
      " (492876, 10000001000098666, 1.41490782e+11, 3.91871488e+09, 85, False)\n",
      " (494709, 10000001900487844, 1.54217021e+11, 5.90110003e+09, 68, False)\n",
      " (494709, 10000001900496755, 1.29211507e+11, 3.52044646e+09, 65, False)\n",
      " (495451,         185438662, 9.22402652e+10, 2.53047757e+09, 69, False)\n",
      " (497557, 10000001200060682, 2.77239398e+11, 1.24320727e+10, 72, False)\n",
      " (497557, 10000001200082540, 9.51297147e+10, 1.62280192e+09, 68, False)\n",
      " (500577, 10000000000938176, 8.12328288e+11, 3.50249779e+10, 98, False)\n",
      " (500577, 10000000001021467, 3.29124844e+10, 3.21470240e+08, 98, False)\n",
      " (501208,         208059105, 1.11789457e+11, 4.11889050e+09, 43, False)\n",
      " (501725,         206633846, 8.41313649e+10, 3.83066470e+09, 80, False)\n",
      " (501725,         206639419, 7.49416448e+10, 1.84855130e+09, 79, False)\n",
      " (502371,         152773078, 1.13235550e+11, 3.87140403e+09, 83, False)\n",
      " (502995,         184941218, 2.08277701e+11, 9.66130483e+09, 55, False)\n",
      " (502995,         184959064, 5.94929377e+10, 7.97987712e+08, 55, False)\n",
      " (503437,          71767698, 7.61068585e+10, 1.72819994e+09, 44, False)\n",
      " (503987,         210551549, 2.29655970e+11, 1.16416942e+10, 83, False)\n",
      " (504559, 10000001000636510, 1.62281882e+11, 6.84723814e+09, 52, False)\n",
      " (505100,         155117095, 4.11302363e+11, 3.06453791e+10, 80, False)\n",
      " (505586,          30477642, 6.61303378e+10, 1.03257626e+09, 55, False)\n",
      " (507784,         148862188, 3.13964724e+11, 1.17061519e+10, 61, False)\n",
      " (507784,         148884194, 6.64103035e+10, 7.80836800e+08, 56, False)\n",
      " (508538,          33565851, 5.09527556e+11, 2.64153068e+10, 57, False)\n",
      " (508538,          33597497, 1.51554867e+11, 3.69750170e+09, 68, False)\n",
      " (508538,          33609665, 4.21720842e+10, 7.27670912e+08, 60, False)\n",
      " (509091,          73029962, 7.11206420e+10, 1.02887277e+09, 93, False)\n",
      " (509709,         169806179, 1.64649992e+11, 6.57410099e+09, 43, False)\n",
      " (510585, 20000003300072067, 2.49408455e+11, 9.09108019e+09, 71, False)\n",
      " (511303, 10000000002426001, 1.38879484e+11, 2.10616883e+09, 79, False)\n",
      " (511303, 10000000002443049, 5.92274964e+10, 1.44103706e+09, 59, False)\n",
      " (513105, 10000003500061851, 1.98784860e+11, 7.60595456e+09, 94, False)\n",
      " (513105, 10000003500075221, 8.18063688e+10, 1.45740672e+09, 94, False)\n",
      " (513105, 10000003500081599, 1.38376266e+11, 1.99052544e+09, 78, False)\n",
      " (514272,         217912211, 3.13785942e+11, 1.60762255e+10, 55, False)\n",
      " (514272,         217932403, 1.00539277e+11, 4.02331520e+09, 80, False)\n",
      " (514829, 20000000000075624, 1.31383140e+11, 4.75004314e+09, 45, False)\n",
      " (516101, 20000001600084100, 2.30993609e+11, 6.56485376e+09, 76, False)\n",
      " (516101, 20000001600098573, 7.12073134e+10, 1.57919744e+08, 98, False)\n",
      " (517271, 10000003200077016, 9.95487498e+10, 1.43877389e+09, 90, False)\n",
      " (520885, 10000003700082676, 7.13960653e+10, 4.14506848e+08, 96, False)\n",
      " (521429, 10000000302116177, 4.61025706e+11, 2.03044905e+10, 82, False)\n",
      " (521803, 20000002200062171, 2.93837013e+11, 7.44791142e+09, 95, False)\n",
      " (522983,         199978657, 9.08291113e+10, 1.54307341e+09, 77, False)\n",
      " (523889, 20000002400065547, 1.88150432e+11, 5.93227571e+09, 96, False)\n",
      " (524506, 20000002600069300, 2.49807290e+11, 1.06880379e+10, 77, False)\n",
      " (525533, 10000000201057871, 1.75788114e+11, 8.87929139e+09, 65, False)\n",
      " (526029, 20000003100048043, 2.64835367e+11, 9.69215795e+09, 90, False)\n",
      " (526029, 20000003100066488, 5.83971471e+10, 5.54913408e+08, 76, False)\n",
      " (526478,         153519217, 7.34896538e+10, 1.79329114e+09, 49, False)\n",
      " (527309,           9107262, 3.86982478e+11, 2.13026120e+10, 89, False)\n",
      " (527309,           9137436, 3.74835200e+10, 2.00307360e+08, 51, False)\n",
      " (528322, 20000002900066205, 2.37639156e+11, 9.54741043e+09, 96, False)\n",
      " (528836, 10000000800494216, 2.21841539e+11, 1.16328950e+10, 87, False)\n",
      " (529365,         166969832, 8.55334339e+10, 2.75990733e+09, 62, False)\n",
      " (530852, 20000002000069427, 1.14373091e+11, 2.46046592e+09, 55, False)\n",
      " (530852, 20000002000077674, 6.14145556e+10, 1.03261702e+09, 51, False)\n",
      " (531320, 20000003400088708, 6.60028375e+10, 1.20335322e+09, 58, False)\n",
      " (532301, 20000002700079689, 6.79280804e+10, 8.54292480e+08, 66, False)\n",
      " (532760,         216555592, 6.63472292e+10, 1.10478426e+09, 47, False)\n",
      " (535050,         177736074, 2.03579621e+11, 6.69931008e+09, 94, False)\n",
      " (535410,         137826002, 5.27443681e+10, 2.60772320e+08, 46, False)\n",
      " (535774,           7894864, 4.50225193e+10, 6.52192960e+08, 38, False)\n",
      " (536146,         191340377, 2.30459539e+11, 7.40335462e+09, 39, False)\n",
      " (538370, 20000003500069188, 5.31840492e+10, 4.20661248e+08, 58, False)\n",
      " (539667,         140395663, 1.14359484e+11, 1.96706394e+09, 97, False)\n",
      " (540082,         200402690, 1.02729056e+11, 2.33566003e+09, 62, False)\n",
      " (540452,         208244317, 6.13070152e+10, 4.80628352e+08, 91, False)\n",
      " (541497,         217337492, 4.73053143e+10, 3.62090240e+08, 49, False)\n",
      " (542662, 20000002100042666, 1.11508144e+11, 3.53458406e+09, 89, False)\n",
      " (542662, 20000002100048674, 8.14215905e+10, 1.70515866e+09, 68, False)\n",
      " (544001,          82735998, 6.15275397e+10, 1.33445235e+09, 90, False)\n",
      " (544001,          82741020, 3.93270968e+10, 2.59844000e+08, 96, False)\n",
      " (544408,         217546839, 9.33923226e+10, 1.97930970e+09, 84, False)\n",
      " (545437, 20000001400054190, 7.45604956e+10, 1.50539366e+09, 41, False)\n",
      " (546114,         203251810, 6.59030139e+10, 4.96744960e+08, 84, False)\n",
      " (554189, 10000000201563025, 8.65788641e+10, 8.88799872e+08, 98, False)\n",
      " (554189, 10000000201573009, 5.94729779e+10, 3.39452448e+08, 42, False)\n",
      " (554523, 20000009700045425, 5.36963277e+10, 8.89050880e+08, 47, False)\n",
      " (555013, 10000000203274957, 6.54991811e+10, 8.71690048e+08, 78, False)\n",
      " (555013, 10000000203279113, 5.36931533e+10, 8.96513024e+08, 41, False)\n",
      " (566365,          77654929, 3.43590277e+10, 1.39124848e+08, 95, False)\n",
      " (574037,          18570657, 1.04897511e+11, 4.11137971e+09, 87, False)\n",
      " (574037,          18577408, 8.45401866e+10, 1.61566157e+09, 96, False)]\n"
     ]
    }
   ],
   "source": [
    "print(store_all)"
   ]
  },
  {
   "cell_type": "code",
   "execution_count": 20,
   "metadata": {},
   "outputs": [
    {
     "data": {
      "text/plain": [
       "(array([11., 11., 11., 14., 14., 17., 23., 12., 15., 30.]),\n",
       " array([38., 44., 50., 56., 62., 68., 74., 80., 86., 92., 98.]),\n",
       " <a list of 10 Patch objects>)"
      ]
     },
     "execution_count": 20,
     "metadata": {},
     "output_type": "execute_result"
    },
    {
     "data": {
      "image/png": "[encoded data removed]",
      "text/plain": [
       "<Figure size 432x288 with 1 Axes>"
      ]
     },
     "metadata": {
      "needs_background": "light"
     },
     "output_type": "display_data"
    }
   ],
   "source": [
    "# tests\n",
    "plt.xlabel('Snapshot')\n",
    "plt.ylabel('#')\n",
    "plt.hist(store_all['SnapArrival'][store_all['Merg']==True], alpha=0.5)\n",
    "plt.hist(store_all['SnapArrival'][store_all['Merg']==False], alpha=0.5)"
   ]
  },
  {
   "cell_type": "code",
   "execution_count": 21,
   "metadata": {},
   "outputs": [
    {
     "data": {
      "text/plain": [
       "<matplotlib.collections.PathCollection at 0x7f0ebc0dc750>"
      ]
     },
     "execution_count": 21,
     "metadata": {},
     "output_type": "execute_result"
    },
    {
     "data": {
      "image/png": "[encoded data removed]",
      "text/plain": [
       "<Figure size 432x288 with 1 Axes>"
      ]
     },
     "metadata": {
      "needs_background": "light"
     },
     "output_type": "display_data"
    }
   ],
   "source": [
    "plt.xlabel('Lookback Time (Gyr)')\n",
    "plt.ylabel('$\\mathrm{M_{peak}}$')\n",
    "plt.scatter(age(find_redshift(store_all['SnapArrival'][:])),np.log10(store_all['mpeak'][:]))"
   ]
  },
  {
   "cell_type": "code",
   "execution_count": 26,
   "metadata": {},
   "outputs": [
    {
     "data": {
      "text/plain": [
       "Text(0, 0.5, '#')"
      ]
     },
     "execution_count": 26,
     "metadata": {},
     "output_type": "execute_result"
    },
    {
     "data": {
      "image/png": "[encoded data removed]",
      "text/plain": [
       "<Figure size 432x288 with 1 Axes>"
      ]
     },
     "metadata": {
      "needs_background": "light"
     },
     "output_type": "display_data"
    }
   ],
   "source": [
    "# Average number of massive progenitors per MW-mass halo\n",
    "a,b=np.unique(store_all['SubfindID'][:],return_counts=True)\n",
    "plt.hist(b, bins=np.arange(8), alpha=0.4)\n",
    "plt.axvline(np.median(b))\n",
    "plt.xlabel('# Number of massive progenitors')\n",
    "plt.ylabel(\"#\")"
   ]
  },
  {
   "cell_type": "code",
   "execution_count": 72,
   "metadata": {},
   "outputs": [
    {
     "name": "stdout",
     "output_type": "stream",
     "text": [
      "[(454171, 10000000202497808, 1.24320888e+12, 5.70025329e+10, 90, False)]\n"
     ]
    }
   ],
   "source": [
    "arg=np.where(store_all['SubfindID']==454171)[0]\n",
    "print(store_all[arg])"
   ]
  },
  {
   "cell_type": "code",
   "execution_count": 66,
   "metadata": {},
   "outputs": [
    {
     "data": {
      "text/plain": [
       "7.008151235452507"
      ]
     },
     "execution_count": 66,
     "metadata": {},
     "output_type": "execute_result"
    }
   ],
   "source": [
    "age(find_redshift(np.array([55,])))"
   ]
  },
  {
   "cell_type": "code",
   "execution_count": 28,
   "metadata": {},
   "outputs": [
    {
     "data": {
      "image/png": "[encoded data removed]",
      "text/plain": [
       "<Figure size 360x360 with 1 Axes>"
      ]
     },
     "metadata": {
      "needs_background": "light"
     },
     "output_type": "display_data"
    }
   ],
   "source": [
    "maskMerg   = (store_all['Merg']==True)\n",
    "maskNoMerg = (store_all['Merg']==False)\n",
    "S_age=age(find_redshift(store_all['SnapArrival']))\n",
    "fig1=plt.figure(figsize=(5.,5.))\n",
    "ax1 = fig1.add_axes([0.15, 0.15, 0.7, 0.75])\n",
    "bins=np.arange(0,14,2)\n",
    "ax1.hist(S_age[maskMerg],bins=bins, alpha=0.8, histtype='step', color='C2',lw=2)\n",
    "ax1.hist(S_age[maskNoMerg],bins=bins, alpha=0.8,histtype='step', color='C3',lw=2, linestyle='--')\n",
    "ax1.hist(S_age[maskMerg],bins=bins, color='C2', alpha=0.3, label='Merged')\n",
    "ax1.hist(S_age[maskNoMerg],bins=bins, color='C3', alpha=0.3, label='Not merged')\n",
    "ax1.set_xticks([0,2,4,6,8,10,12])\n",
    "ax1.set_xlabel('Lookback Infall Time (Gyr)')\n",
    "ax1.set_ylabel('#')\n",
    "ax1.set_title(r'$\\mathrm{M_{peak}}> 0.1\\, M_{200\\mathrm{c}}$')\n",
    "ax1.set_ylim([0,90])\n",
    "\n",
    "leg1=plt.legend(loc=2)\n",
    "leg1.get_frame().set_linewidth(0.0)"
   ]
  },
  {
   "cell_type": "code",
   "execution_count": null,
   "metadata": {},
   "outputs": [],
   "source": []
  }
 ],
 "metadata": {
  "kernelspec": {
   "display_name": "Python 3",
   "language": "python",
   "name": "python3"
  },
  "language_info": {
   "codemirror_mode": {
    "name": "ipython",
    "version": 3
   },
   "file_extension": ".py",
   "mimetype": "text/x-python",
   "name": "python",
   "nbconvert_exporter": "python",
   "pygments_lexer": "ipython3",
   "version": "3.7.4"
  }
 },
 "nbformat": 4,
 "nbformat_minor": 4
}
